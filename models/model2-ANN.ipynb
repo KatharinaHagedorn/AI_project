{
 "cells": [
  {
   "cell_type": "code",
   "execution_count": 30,
   "metadata": {},
   "outputs": [
    {
     "name": "stdout",
     "output_type": "stream",
     "text": [
      "Model: \"sequential_16\"\n",
      "_________________________________________________________________\n",
      " Layer (type)                Output Shape              Param #   \n",
      "=================================================================\n",
      " dense_32 (Dense)            (None, 117)               13806     \n",
      "                                                                 \n",
      " dense_33 (Dense)            (None, 2)                 236       \n",
      "                                                                 \n",
      "=================================================================\n",
      "Total params: 14,042\n",
      "Trainable params: 14,042\n",
      "Non-trainable params: 0\n",
      "_________________________________________________________________\n",
      "57/57 [==============================] - 1s 7ms/step - loss: 0.3264 - accuracy: 0.8929 - val_loss: 0.0878 - val_accuracy: 0.9766\n",
      "77/77 [==============================] - 0s 1ms/step - loss: 0.0878 - accuracy: 0.9766\n",
      "Neural network accuracy: 97.66%\n"
     ]
    }
   ],
   "source": [
    "\n",
    "import numpy as np\n",
    "import pandas as pa\n",
    "from sklearn.preprocessing import OneHotEncoder\n",
    "from sklearn.model_selection import train_test_split\n",
    "from keras.models import Sequential \n",
    "from keras.layers import Dense \n",
    "from keras.optimizers import *\n",
    "from keras.utils import *\n",
    "import warnings\n",
    "from sklearn.model_selection import GridSearchCV\n",
    "\n",
    "#-----------------------------------------import and encoding of data so it can be used in randomForest Model-------------------------------------\n",
    "\n",
    "#dataset import\n",
    "colnames=['e/p','cap-shape', 'cap-surface', 'cap-color', 'bruises?', 'odor', 'gill-attachment', 'gill-spacing', 'gill-size', 'gill-color', 'stalk-shape', 'stalk-root', 'stalk-surface-above-ring', 'stalk-surface-below-ring', 'stalk-color-above-ring', 'stalk-color-below-ring', 'veil-type', 'veil-color','ring-number', 'ring-type', 'spore-print-color', 'population', 'habitat'] \n",
    "dataset = pa.read_csv(\"https://archive.ics.uci.edu/ml/machine-learning-databases/mushroom/agaricus-lepiota.data\", names=colnames, header=0)\n",
    "\n",
    "#oneHOtEncoding\n",
    "labels = colnames\n",
    "categorical_data = dataset[labels]\n",
    "ohe = OneHotEncoder(categories='auto')\n",
    "feature_arr = ohe.fit_transform(categorical_data).toarray()\n",
    "ohe_labels = ohe.get_feature_names_out(labels)\n",
    "features = pa.DataFrame(feature_arr,columns=ohe_labels)\n",
    "\n",
    "#print(features)\n",
    "\n",
    "x= features.iloc[:, -117:].values\n",
    "Y=features.iloc[:, :-117].values\n",
    "\n",
    "#-------------------------------------------------implementation of ANN model------------------------------------------------\n",
    "\n",
    "x_train,x_test, Y_train,Y_test = train_test_split(x, Y, test_size=0.3)\n",
    "\n",
    "num_classes = Y_train.shape[1]\n",
    "#print(num_classes)\n",
    "\n",
    "\n",
    "def neural_network():\n",
    "    model = Sequential()\n",
    "    model.add(Dense(117, input_dim=117, kernel_initializer='normal', activation='relu'))\n",
    "    model.add(Dense(num_classes, kernel_initializer='normal', activation='softmax'))    \n",
    "    model.compile(loss='categorical_crossentropy', optimizer='adam', metrics=['accuracy'])\n",
    "    return model\n",
    "\n",
    "param_grid= {'n_estimators':[100,200,300,400,500,600,700,800,900,1000],\n",
    "    'criterion':['gini','entropy'],\n",
    "    'max_depth': [2,3]}\n",
    "\n",
    "model = neural_network()\n",
    "grid_search = GridSearchCV(model, param_grid=param_grid, cv=10, scoring='f1_macro', n_jobs=4)\n",
    "model.summary()\n",
    "\n",
    "warnings.filterwarnings(\"ignore\")\n",
    "\n",
    "model.fit(x_train, Y_train, validation_data=(x_test, Y_test), epochs=1, batch_size=100)\n",
    "\n",
    "#---------------------------------test and values of errors of model---------------------------------------------------------------------------------\n",
    "\n",
    "scores = model.evaluate(x_test, Y_test)\n",
    "print(\"Neural network accuracy: %.2f%%\" % (scores[1]*100))\n"
   ]
  }
 ],
 "metadata": {
  "kernelspec": {
   "display_name": "base",
   "language": "python",
   "name": "python3"
  },
  "language_info": {
   "codemirror_mode": {
    "name": "ipython",
    "version": 3
   },
   "file_extension": ".py",
   "mimetype": "text/x-python",
   "name": "python",
   "nbconvert_exporter": "python",
   "pygments_lexer": "ipython3",
   "version": "3.9.13"
  },
  "orig_nbformat": 4,
  "vscode": {
   "interpreter": {
    "hash": "86c3ae0d4867be8e64b1697bd151ae3cbb6ef27ca114925be34996514974870a"
   }
  }
 },
 "nbformat": 4,
 "nbformat_minor": 2
}
